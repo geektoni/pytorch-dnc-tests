{
 "cells": [
  {
   "cell_type": "markdown",
   "metadata": {
    "colab_type": "text",
    "id": "eqXfJ_vLGnvT"
   },
   "source": [
    "# Priority Sort Task Plots"
   ]
  },
  {
   "cell_type": "markdown",
   "metadata": {
    "colab_type": "text",
    "id": "lQpWZm9lCNiP"
   },
   "source": [
    "In order to run this on Colab, uncomment the following lines and run them into a cell:\n",
    "\n",
    "```bash\n",
    "%%bash\n",
    "cd ~\n",
    "git clone https://github.com/geektoni/pytorch-ntm\n",
    "cd pytorch-ntm\n",
    "git checkout GPU_support\n",
    "pip install -r requirements.txt\n",
    "pwd\n",
    "```"
   ]
  },
  {
   "cell_type": "code",
   "execution_count": 18,
   "metadata": {
    "colab": {},
    "colab_type": "code",
    "id": "EnxwzIOXGnvj"
   },
   "outputs": [],
   "source": [
    "import matplotlib.pyplot as plt\n",
    "import numpy as np\n",
    "import pandas as pd\n",
    "\n",
    "from glob import glob\n",
    "import json\n",
    "import os\n",
    "import sys\n",
    "sys.path.append(os.path.abspath(os.getcwd() + \"./../\"))\n",
    "\n",
    "import torch.nn as nn\n",
    "import torch as T\n",
    "from utils import *\n",
    "\n",
    "%matplotlib inline"
   ]
  },
  {
   "cell_type": "code",
   "execution_count": 19,
   "metadata": {
    "colab": {
     "base_uri": "https://localhost:8080/",
     "height": 35
    },
    "colab_type": "code",
    "id": "epmH0N-lGnwb",
    "outputId": "805d9e3b-0515-4fcd-9454-a82b48a98135"
   },
   "outputs": [
    {
     "name": "stdout",
     "output_type": "stream",
     "text": [
      "['./checkpoints/results_augmented_task/results_1_5_4_5_300000.json']\n",
      "./checkpoints/results_augmented_task/step_1_5_4_5_300000.pth\n"
     ]
    }
   ],
   "source": [
    "#base= \"./checkpoints/results_augmented_task/\"\n",
    "base = \"./checkpoints/results_original_task/\"\n",
    "#identifier = \"_1_5_4_5_300000\"\n",
    "identifier = \"_1_20_8_1_700000\"\n",
    "files = glob(base+\"results\"+identifier+\".json\")\n",
    "files\n",
    "\n",
    "print(files)\n",
    "\n",
    "# Set up variables\n",
    "filename = files[0].replace(base, \"\").replace(\".json\", \"\").replace(\"results_\", \"\")\n",
    "vals = filename.split(\"_\")\n",
    "\n",
    "batch_size = int(vals[0])\n",
    "sequence_length = int(vals[1])\n",
    "sequence_num_of_bits =int(vals[2])\n",
    "steps = int(vals[3])\n",
    "batch_num = int(vals[4])\n",
    "\n",
    "# Model dump name\n",
    "model_name = base+\"step_{}.pth\".format(filename)\n",
    "print(model_name)\n",
    "\n",
    "sigm = nn.Sigmoid()\n"
   ]
  },
  {
   "cell_type": "code",
   "execution_count": 20,
   "metadata": {
    "colab": {
     "base_uri": "https://localhost:8080/",
     "height": 53
    },
    "colab_type": "code",
    "id": "Eba-ByFZGnxI",
    "outputId": "24d9694d-047e-4900-ddaa-ad572d11cf47"
   },
   "outputs": [
    {
     "name": "stdout",
     "output_type": "stream",
     "text": [
      "1\n",
      "Training history (seed x metric x sequence) = (1, 3, 300000)\n"
     ]
    }
   ],
   "source": [
    "# Read the metrics from the .json files\n",
    "history = [json.loads(open(fname, \"rt\").read()) for fname in files]\n",
    "training = np.array([(x['cost'], x['loss'], x['seq_lengths']) for x in history])\n",
    "print(len(history))\n",
    "print(\"Training history (seed x metric x sequence) =\", training[: ,:, :-1].shape)\n",
    "training = training[: ,:, :-1]"
   ]
  },
  {
   "cell_type": "code",
   "execution_count": 21,
   "metadata": {
    "colab": {
     "base_uri": "https://localhost:8080/",
     "height": 35
    },
    "colab_type": "code",
    "id": "5bZcLvgxGnxs",
    "outputId": "83415036-e9e1-47e6-c81a-3350c9ef1c27"
   },
   "outputs": [
    {
     "name": "stdout",
     "output_type": "stream",
     "text": [
      "900000\n",
      "(1, 3, 300)\n"
     ]
    }
   ],
   "source": [
    "# Average every dv values across each (seed, metric)\n",
    "dv = 1000\n",
    "print(training.size)\n",
    "training = training.reshape(len(files), 3, -1, dv).mean(axis=3)\n",
    "print(training.shape)"
   ]
  },
  {
   "cell_type": "code",
   "execution_count": 22,
   "metadata": {
    "colab": {
     "base_uri": "https://localhost:8080/",
     "height": 53
    },
    "colab_type": "code",
    "id": "oXEQEMS2GnyS",
    "outputId": "25a38a7c-39b6-4aa6-c563-fabaa8841fa2"
   },
   "outputs": [
    {
     "name": "stdout",
     "output_type": "stream",
     "text": [
      "(3, 300)\n",
      "(3, 300)\n"
     ]
    }
   ],
   "source": [
    "# Average the seeds\n",
    "training_mean = training.mean(axis=0)\n",
    "training_std = training.std(axis=0)\n",
    "print(training_mean.shape)\n",
    "print(training_std.shape)"
   ]
  },
  {
   "cell_type": "code",
   "execution_count": 23,
   "metadata": {
    "colab": {
     "base_uri": "https://localhost:8080/",
     "height": 352
    },
    "colab_type": "code",
    "id": "U6-4yT8kGnys",
    "outputId": "0b04e291-5ba8-4c8c-cf1b-32f747dbc94b",
    "scrolled": true
   },
   "outputs": [
    {
     "data": {
      "image/png": "[encoded data removed]",
      "text/plain": [
       "<matplotlib.figure.Figure at 0x7f1e3ad77080>"
      ]
     },
     "metadata": {
      "needs_background": "light"
     },
     "output_type": "display_data"
    }
   ],
   "source": [
    "fig = plt.figure(figsize=(12, 5))\n",
    "\n",
    "# X axis is normalized to thousands\n",
    "x = np.arange(dv / 1000, (batch_num / 1000) + (dv / 1000), dv / 1000)\n",
    "\n",
    "# Plot the cost\n",
    "plt.plot(x, training_mean[0], 'o-', linewidth=2, label='Cost')\n",
    "plt.errorbar(x, training_mean[0], yerr=training_std[0], fmt='o-', elinewidth=2, linewidth=2, label='Cost')\n",
    "plt.grid()\n",
    "plt.yticks(np.arange(0, training_mean[0][0]+5, 5))\n",
    "plt.ylabel('Cost per sequence (bits)')\n",
    "plt.xlabel('Sequence (thousands)')\n",
    "plt.title('Training Convergence', fontsize=16)\n",
    "\n",
    "ax = plt.axes([.57, .55, .25, .25], facecolor=(0.97, 0.97, 0.97))\n",
    "plt.title(\"BCELoss\")\n",
    "plt.plot(x, training_mean[1], 'r-', label='BCE Loss')\n",
    "plt.yticks(np.arange(0, training_mean[1][0]+0.2, 0.2))\n",
    "plt.grid()\n",
    "\n",
    "plt.show()"
   ]
  },
  {
   "cell_type": "code",
   "execution_count": 24,
   "metadata": {
    "colab": {
     "base_uri": "https://localhost:8080/",
     "height": 352
    },
    "colab_type": "code",
    "id": "nco0d0T6Gny4",
    "outputId": "92ef9a69-f705-4e64-b588-1be71960cbc9",
    "scrolled": true
   },
   "outputs": [
    {
     "data": {
      "image/png": "[encoded data removed]",
      "text/plain": [
       "<matplotlib.figure.Figure at 0x7f1e3acb98d0>"
      ]
     },
     "metadata": {
      "needs_background": "light"
     },
     "output_type": "display_data"
    }
   ],
   "source": [
    "loss = history[0]['loss']\n",
    "cost = history[0]['cost']\n",
    "seq_lengths = history[0]['seq_lengths']\n",
    "\n",
    "unique_sls = set(seq_lengths)\n",
    "all_metric = list(zip(range(1, batch_num+1), seq_lengths, loss, cost))\n",
    "\n",
    "fig = plt.figure(figsize=(12, 5))\n",
    "plt.ylabel('Cost per sequence (bits)')\n",
    "plt.xlabel('Iteration (thousands)')\n",
    "plt.title('Training Convergence (Per Sequence Length)', fontsize=16)\n",
    "\n",
    "for sl in unique_sls:\n",
    "    sl_metrics = [i for i in all_metric if i[1] == sl]\n",
    "\n",
    "    x = [i[0] for i in sl_metrics]\n",
    "    y = [i[3] for i in sl_metrics]\n",
    "    \n",
    "    num_pts = len(x) // 50\n",
    "    total_pts = num_pts * 50\n",
    "    \n",
    "    x_mean = [i.mean()/1000 for i in np.split(np.array(x)[:total_pts], num_pts)]\n",
    "    y_mean = [i.mean() for i in np.split(np.array(y)[:total_pts], num_pts)]\n",
    "    \n",
    "    plt.plot(x_mean, y_mean, label='Seq-{}'.format(sl))\n",
    "\n",
    "#plt.yticks(np.arange(0, 5, 5))\n",
    "plt.legend(loc=0)\n",
    "plt.show()"
   ]
  },
  {
   "cell_type": "markdown",
   "metadata": {
    "colab_type": "text",
    "collapsed": true,
    "id": "Dia8al7wGnzT"
   },
   "source": [
    "# Evaluate"
   ]
  },
  {
   "cell_type": "code",
   "execution_count": 25,
   "metadata": {
    "colab": {},
    "colab_type": "code",
    "id": "9tPYixptGnz1"
   },
   "outputs": [],
   "source": [
    "import torch\n",
    "from IPython.display import Image as IPythonImage\n",
    "from PIL import Image, ImageDraw, ImageFont\n",
    "import io\n",
    "from utils import generate_data"
   ]
  },
  {
   "cell_type": "code",
   "execution_count": 26,
   "metadata": {
    "colab": {},
    "colab_type": "code",
    "id": "N-TuK0UyGn0i"
   },
   "outputs": [],
   "source": [
    "from dnc.dnc import DNC\n",
    "\n",
    "x, y = generate_data(1, sequence_length, sequence_num_of_bits+2, steps=steps)\n",
    "\n",
    "rnn = DNC(input_size=sequence_num_of_bits+2,\n",
    "        hidden_size=100,\n",
    "        rnn_type=\"lstm\",\n",
    "        num_layers=1,\n",
    "        num_hidden_layers=2,\n",
    "        dropout=0,\n",
    "        nr_cells=128,\n",
    "        cell_size=20,\n",
    "        read_heads=5,\n",
    "        gpu_id=-1,\n",
    "        debug=False,\n",
    "        batch_first=True,\n",
    "        independent_linears=False)\n",
    "rnn.load_state_dict(torch.load(model_name))\n",
    "\n",
    "(chx, mhx, rv) = (None, None, None)\n",
    "output, (chx, mhx, rv) = rnn(x, (None, mhx, None), reset_experience=True, pass_through_memory=True)\n",
    "\n",
    "if steps == 1:\n",
    "    y_out = output[:, :-1, :-2]\n",
    "    y = y[:,:,:-2]\n",
    "else:\n",
    "    y_out= output[:, ((sequence_length + 1) * steps):, :-2]\n",
    "    y = y[:,:,:-2]    "
   ]
  },
  {
   "cell_type": "code",
   "execution_count": 27,
   "metadata": {
    "colab": {},
    "colab_type": "code",
    "id": "zp0OJ_dOGn1G"
   },
   "outputs": [],
   "source": [
    "def cmap(value):\n",
    "    pixval = value * 255\n",
    "    low = 64\n",
    "    high = 240\n",
    "    factor = (255 - low - (255-high)) / 255\n",
    "    return int(low + pixval * factor)\n",
    "\n",
    "def draw_sequence(y, u=12):\n",
    "    seq_len = y.size(1)\n",
    "    seq_width = y.size(2)\n",
    "    inset = u // 8\n",
    "    pad = u // 2\n",
    "    width = seq_len * u + 2 * pad\n",
    "    height = seq_width * u + 2 * pad\n",
    "    im = Image.new('L', (width, height))\n",
    "    draw = ImageDraw.ImageDraw(im)\n",
    "    draw.rectangle([0, 0, width, height], fill=250)\n",
    "    for i in range(seq_len):\n",
    "        for j in range(seq_width):\n",
    "            val = 1 - y[0, i, j].item()\n",
    "            draw.rectangle([pad + i*u + inset,\n",
    "                            pad + j*u + inset,\n",
    "                            pad + (i+1)*u - inset,\n",
    "                            pad + (j+1)*u - inset], fill=cmap(val))\n",
    "\n",
    "    return im\n",
    "\n",
    "def im_to_png_bytes(im):\n",
    "    png = io.BytesIO()\n",
    "    im.save(png, 'PNG')\n",
    "    return bytes(png.getbuffer())\n",
    "\n",
    "def im_vconcat(im1, im2, pad=8):\n",
    "    assert im1.size == im2.size\n",
    "    w, h = im1.size\n",
    "\n",
    "    width = w\n",
    "    height = h * 2 + pad\n",
    "\n",
    "    im = Image.new('L', (width, height), color=255)\n",
    "    im.paste(im1, (0, 0))\n",
    "    im.paste(im2, (0, h+pad))\n",
    "    return im"
   ]
  },
  {
   "cell_type": "markdown",
   "metadata": {},
   "source": [
    "### We then show the difference between the target sequence (list of binary segment orderd by priority) and the output sequence generated by the NTM"
   ]
  },
  {
   "cell_type": "code",
   "execution_count": 28,
   "metadata": {
    "colab": {
     "base_uri": "https://localhost:8080/",
     "height": 197
    },
    "colab_type": "code",
    "id": "wxGjYL1rGn1q",
    "outputId": "14afe1e8-1f57-4579-c24c-d8d37245c56c"
   },
   "outputs": [
    {
     "data": {
      "image/png": "[encoded data removed]",
      "text/plain": [
       "<IPython.core.display.Image object>"
      ]
     },
     "execution_count": 28,
     "metadata": {},
     "output_type": "execute_result"
    }
   ],
   "source": [
    "from utils import binarize_matrix\n",
    "\n",
    "def make_eval_plot(y, y_out, u=12):\n",
    "    im_y = draw_sequence(y, u)\n",
    "    im_y_out = draw_sequence(y_out, u)\n",
    "    im = im_vconcat(im_y, im_y_out, u//2)\n",
    "    \n",
    "    w, h = im.size\n",
    "    pad_w = u * 7\n",
    "    im2 = Image.new('L', (w+pad_w, h), color=255)\n",
    "    im2.paste(im, (pad_w, 0))\n",
    "    \n",
    "    # Add text\n",
    "    font = ImageFont.truetype(\"./fonts/PT_Sans-Web-Regular.ttf\", 13)\n",
    "    draw = ImageDraw.ImageDraw(im2)\n",
    "    draw.text((u,4*u), \"Targets\", font=font)\n",
    "    draw.text((u,13*u), \"Outputs\", font=font)\n",
    "    \n",
    "    return im2\n",
    "\n",
    "# TODO: remove slicing of y_out when new data are\n",
    "# supplied (since we changed the generate_data procedure).\n",
    "y_final = T.from_numpy(binarize_matrix(sigm(y_out).data.cpu().numpy()))\n",
    "im3 = make_eval_plot(y, y_final)\n",
    "IPythonImage(im_to_png_bytes(im3))"
   ]
  },
  {
   "cell_type": "code",
   "execution_count": 29,
   "metadata": {},
   "outputs": [
    {
     "name": "stdout",
     "output_type": "stream",
     "text": [
      "tensor(5.)\n"
     ]
    }
   ],
   "source": [
    "cost = compute_cost(y_final, y)\n",
    "print(cost)"
   ]
  },
  {
   "cell_type": "code",
   "execution_count": null,
   "metadata": {},
   "outputs": [],
   "source": []
  },
  {
   "cell_type": "code",
   "execution_count": null,
   "metadata": {},
   "outputs": [],
   "source": []
  }
 ],
 "metadata": {
  "accelerator": "GPU",
  "colab": {
   "collapsed_sections": [],
   "name": "priority-sort-task-plots.ipynb",
   "provenance": [],
   "version": "0.3.2"
  },
  "kernelspec": {
   "display_name": "Python 3",
   "language": "python",
   "name": "python3"
  },
  "language_info": {
   "codemirror_mode": {
    "name": "ipython",
    "version": 3
   },
   "file_extension": ".py",
   "mimetype": "text/x-python",
   "name": "python",
   "nbconvert_exporter": "python",
   "pygments_lexer": "ipython3",
   "version": "3.5.2"
  }
 },
 "nbformat": 4,
 "nbformat_minor": 1
}
